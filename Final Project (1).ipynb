{
 "cells": [
  {
   "cell_type": "code",
   "execution_count": 1,
   "id": "cc34a9c4",
   "metadata": {},
   "outputs": [],
   "source": [
    "%load_ext sql\n",
    "%sql sqlite:///FinalProject.db"
   ]
  },
  {
   "cell_type": "code",
   "execution_count": 2,
   "id": "5d7404a4",
   "metadata": {},
   "outputs": [
    {
     "name": "stdout",
     "output_type": "stream",
     "text": [
      " * sqlite:///FinalProject.db\n",
      "Done.\n",
      "Done.\n",
      "Done.\n",
      "Done.\n",
      "Done.\n",
      "Done.\n"
     ]
    },
    {
     "data": {
      "text/plain": [
       "[]"
      ]
     },
     "execution_count": 2,
     "metadata": {},
     "output_type": "execute_result"
    }
   ],
   "source": [
    "%%sql\n",
    "Drop Table if Exists Students;\n",
    "Create Table Students(\n",
    "    StudentID integer Primary Key,\n",
    "    SName Char(20));\n",
    "\n",
    "Drop Table if Exists Courses;\n",
    "Create Table Courses(\n",
    "    CourseID integer Primary Key,\n",
    "    Cname Char(20),\n",
    "    Credits integer);\n",
    "\n",
    "Drop Table if Exists Enrollments;\n",
    "Create Table Enrollments(\n",
    "    sid integer,\n",
    "    cid integer,\n",
    "    Foreign Key(sid) References Students(StudentID),\n",
    "    Foreign Key(cid) References Courses(CourseID));"
   ]
  },
  {
   "cell_type": "code",
   "execution_count": 3,
   "id": "a6c86ed8",
   "metadata": {},
   "outputs": [
    {
     "name": "stdout",
     "output_type": "stream",
     "text": [
      " * sqlite:///FinalProject.db\n",
      "0 rows affected.\n",
      "0 rows affected.\n",
      "0 rows affected.\n",
      "1 rows affected.\n",
      "1 rows affected.\n",
      "1 rows affected.\n",
      "1 rows affected.\n",
      "1 rows affected.\n",
      "1 rows affected.\n",
      "1 rows affected.\n",
      "1 rows affected.\n",
      "1 rows affected.\n",
      "1 rows affected.\n",
      "1 rows affected.\n",
      "1 rows affected.\n",
      "1 rows affected.\n",
      "1 rows affected.\n",
      "1 rows affected.\n",
      "1 rows affected.\n",
      "1 rows affected.\n",
      "1 rows affected.\n",
      "1 rows affected.\n",
      "1 rows affected.\n"
     ]
    },
    {
     "data": {
      "text/plain": [
       "[]"
      ]
     },
     "execution_count": 3,
     "metadata": {},
     "output_type": "execute_result"
    }
   ],
   "source": [
    "%%sql\n",
    "Delete From Students;\n",
    "Delete From Courses;\n",
    "Delete From Enrollments;\n",
    "\n",
    "Insert into Students values(101, 'Andrew');\n",
    "Insert into Students values(102, 'Corey');\n",
    "Insert into Students values(103, 'Joshua');\n",
    "Insert into Students values(104, 'Reggie');\n",
    "Insert into Students values(105, 'Harold');\n",
    "\n",
    "Insert into Courses values(1101, 'Math', 4);\n",
    "Insert into Courses values(1102, 'Science', 4);\n",
    "Insert into Courses values(1103, 'English', 4);\n",
    "Insert into Courses values(1104, 'History', 4);\n",
    "Insert into Courses values(1105, 'Gym', 3);\n",
    "\n",
    "Insert into Enrollments values(101, 1101);\n",
    "Insert into Enrollments values(101, 1105);\n",
    "Insert into Enrollments values(102, 1101);\n",
    "Insert into Enrollments values(102, 1103);\n",
    "Insert into Enrollments values(103, 1102);\n",
    "Insert into Enrollments values(103, 1104);\n",
    "Insert into Enrollments values(104, 1103);\n",
    "Insert into Enrollments values(104, 1102);\n",
    "Insert into Enrollments values(105, 1105);\n",
    "Insert into Enrollments values(105, 1101);"
   ]
  },
  {
   "cell_type": "code",
   "execution_count": 6,
   "id": "ecac3504",
   "metadata": {},
   "outputs": [
    {
     "name": "stdout",
     "output_type": "stream",
     "text": [
      "Please enter a Student ID (101 - 105 or -1 to create a new Student ID): 101\n",
      "L - Lists all records in the course table\n",
      "E - Enrolls the active student in a course - User is prompted for course ID - Check for conflicts (No Duplicate Course ID)\n",
      "W - Deletes an entry in the Enrollment table corresponding to active student - Student is prompted for course ID to be withdrawn from\n",
      "S - Search course based on substring of course name which is given by user - List all matching courses\n",
      "M - Lists all classes enrolled in by the active student\n",
      "X - Exit Application\n",
      "Please enter a Letter (L, E, W, S, M, X to Exit): S\n",
      "Search course - List all matching:\n",
      "Search for a course: ma\n",
      " * sqlite:///FinalProject.db\n",
      "Done.\n",
      "+----------+-------+---------+\n",
      "| CourseID | Cname | Credits |\n",
      "+----------+-------+---------+\n",
      "|   1101   |  Math |    4    |\n",
      "+----------+-------+---------+\n",
      "Please enter a Letter (L, E, W, S, M, X to Exit): X\n",
      "Exiting Program\n"
     ]
    }
   ],
   "source": [
    "userInput = input(\"Please enter a Student ID (101 - 105 or -1 to create a new Student ID): \")\n",
    "userInput = int(userInput)\n",
    "if(userInput == -1 or userInput <= 105 and userInput >=101):\n",
    "    if(userInput == -1):\n",
    "        userInput = input(\"You have chosen -1, Please enter a new ID (I.E. 106, 107, 108...): \") \n",
    "        userName = input(\"Enter your name: \")\n",
    "        %sql Insert into Students values(:userInput, :userName);#Adding new student\n",
    "        result4 = %sql Select * From Students S\n",
    "        print(result4) #Checking for new student\n",
    "        \n",
    "    print(\"L - Lists all records in the course table\")\n",
    "    print(\"E - Enrolls the active student in a course - User is prompted for course ID - Check for conflicts (No Duplicate Course ID)\")\n",
    "    print(\"W - Deletes an entry in the Enrollment table corresponding to active student - Student is prompted for course ID to be withdrawn from\")\n",
    "    print(\"S - Search course based on substring of course name which is given by user - List all matching courses\")\n",
    "    print(\"M - Lists all classes enrolled in by the active student\")\n",
    "    print(\"X - Exit Application\") #Menu part of program\n",
    "    \n",
    "    isDone = False\n",
    "\n",
    "    while (not isDone):\n",
    "        userInput2 = input(\"Please enter a Letter (L, E, W, S, M, X to Exit): \")\n",
    "\n",
    "        if (userInput2.upper() == \"L\"):  # List\n",
    "            print(\"Listing all records in Courses table:\")\n",
    "            result = %sql SELECT * FROM Courses C\n",
    "            print(result)\n",
    "        elif (userInput2.upper() == \"E\"):  # Enroll\n",
    "            userCourse = input(\"Please enter a Course ID to enroll student in: \")\n",
    "            # Validate if the input is an integer before converting\n",
    "            if (userCourse.isdigit()):\n",
    "                userCourse = int(userCourse)\n",
    "                print(\"Enrolling active student in Course\")\n",
    "                %sql Insert into Enrollments values(:userInput, :userCourse)\n",
    "            else:\n",
    "                print(\"Invalid input. Course ID must be an integer.\")\n",
    "        elif ((userInput2.upper() == \"W\")):  # Withdraw\n",
    "            userDelete = input(\"Please enter a course ID to un-enroll student from: \")\n",
    "            # Validate if the input is an integer before converting\n",
    "            if (userDelete.isdigit()):\n",
    "                userDelete = int(userDelete)\n",
    "                print(\"Deleting an active entry in the Enrollment table:\")\n",
    "                %sql DELETE FROM Enrollments E WHERE E.cid = :userDelete AND E.sid = :userInput\n",
    "            else:\n",
    "                print(\"Invalid input. Course ID must be an integer.\")\n",
    "        elif (userInput2.upper() == \"S\"):  # Search\n",
    "            print(\"Search course - List all matching:\")\n",
    "            userSubstring = input(\"Search for a course: \")\n",
    "            result2 = %sql SELECT * FROM Courses C WHERE CName LIKE '%' || :userSubstring || '%'\n",
    "            print(result2)\n",
    "        elif (userInput2.upper() == \"M\"):  # My Classes\n",
    "            print(\"List all classes enrolled by student:\")\n",
    "            result3 = %sql SELECT CName, CourseID, StudentID FROM Enrollments E, Courses C, Students S WHERE E.cid = C.CourseID AND E.sid = S.StudentID AND E.sid = :userInput\n",
    "            print(result3)\n",
    "        elif (userInput2.upper() == \"X\"):  # Exit\n",
    "            isDone = True\n",
    "            print(\"Exiting Program\")\n",
    "        else:\n",
    "            print(\"Incorrect Input. Please enter a valid option.\")\n",
    "else:\n",
    "    print(\"Incorrect input. Re-Run.\")"
   ]
  },
  {
   "cell_type": "code",
   "execution_count": null,
   "id": "2d12069d",
   "metadata": {},
   "outputs": [],
   "source": []
  },
  {
   "cell_type": "code",
   "execution_count": null,
   "id": "68cd0798",
   "metadata": {},
   "outputs": [],
   "source": []
  },
  {
   "cell_type": "code",
   "execution_count": null,
   "id": "455d6c00",
   "metadata": {},
   "outputs": [],
   "source": []
  }
 ],
 "metadata": {
  "kernelspec": {
   "display_name": "Python 3 (ipykernel)",
   "language": "python",
   "name": "python3"
  },
  "language_info": {
   "codemirror_mode": {
    "name": "ipython",
    "version": 3
   },
   "file_extension": ".py",
   "mimetype": "text/x-python",
   "name": "python",
   "nbconvert_exporter": "python",
   "pygments_lexer": "ipython3",
   "version": "3.11.5"
  }
 },
 "nbformat": 4,
 "nbformat_minor": 5
}
